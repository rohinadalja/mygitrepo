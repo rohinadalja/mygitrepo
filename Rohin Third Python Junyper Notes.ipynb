{
 "cells": [
  {
   "cell_type": "code",
   "execution_count": 36,
   "metadata": {},
   "outputs": [
    {
     "name": "stdout",
     "output_type": "stream",
     "text": [
      "Calculator Instructions:\n",
      "Enter 'add' to add two numbers\n",
      "Enter 'subtract' to subtract two numbers\n",
      "Enter 'multiply' to multiply two numbers\n",
      "Enter 'divide' to divide two numbers\n",
      "Enter 'quit' to end the program\n",
      "Enter a option: quit\n",
      "You chose to quit. Goodbye!\n"
     ]
    }
   ],
   "source": [
    "while True:\n",
    "    print(\"Calculator Instructions:\")\n",
    "    print(\"Enter 'add' to add two numbers\")\n",
    "    print(\"Enter 'subtract' to subtract two numbers\")\n",
    "    print(\"Enter 'multiply' to multiply two numbers\")\n",
    "    print(\"Enter 'divide' to divide two numbers\")\n",
    "    print(\"Enter 'quit' to end the program\")\n",
    "    options = input(\"Enter a option: \")\n",
    "    \n",
    "    if options == \"quit\":\n",
    "        break\n",
    "        \n",
    "    elif options == \"add\":\n",
    "        result = (float(input(\"Enter Num 1: \")) + float(input(\"Enter Num 2: \")))\n",
    "            \n",
    "    elif options == \"subtract\":\n",
    "        print(float(input(\"Enter Num 1: \")) - float(input(\"Enter Num 2: \")))\n",
    "            \n",
    "            \n",
    "    elif options == \"multiply\":\n",
    "        print(float(input(\"Enter Num 1: \")) * float(input(\"Enter Num 2: \")))\n",
    "            \n",
    "            \n",
    "    elif options == \"divide\":\n",
    "        print(float(input(\"Enter Num 1: \")) / float(input(\"Enter Num 2: \")))\n",
    "            \n",
    "    \n",
    "    else:\n",
    "        print(\"\\n --> Invalid Entry: Try Again <-- \\n\")\n",
    "        continue\n",
    "    \n",
    "    \n",
    "    print (\"\\nThe answer is:\", result, \"\\n\")\n",
    "    \n",
    "print (\"You chose to quit. Goodbye!\")\n",
    "\n",
    "    \n",
    "\n",
    "\n",
    "\n"
   ]
  },
  {
   "cell_type": "markdown",
   "metadata": {},
   "source": [
    "### "
   ]
  },
  {
   "cell_type": "code",
   "execution_count": null,
   "metadata": {
    "collapsed": true
   },
   "outputs": [],
   "source": []
  }
 ],
 "metadata": {
  "kernelspec": {
   "display_name": "Python 3",
   "language": "python",
   "name": "python3"
  },
  "language_info": {
   "codemirror_mode": {
    "name": "ipython",
    "version": 3
   },
   "file_extension": ".py",
   "mimetype": "text/x-python",
   "name": "python",
   "nbconvert_exporter": "python",
   "pygments_lexer": "ipython3",
   "version": "3.6.1"
  }
 },
 "nbformat": 4,
 "nbformat_minor": 2
}
