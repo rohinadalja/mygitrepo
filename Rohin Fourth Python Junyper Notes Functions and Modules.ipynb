{
 "cells": [
  {
   "cell_type": "code",
   "execution_count": 8,
   "metadata": {},
   "outputs": [
    {
     "name": "stdout",
     "output_type": "stream",
     "text": [
      "spam\n",
      "spam\n"
     ]
    }
   ],
   "source": [
    "#  HOW TO DEFINE YOUR OWN NEW FUNCTION\n",
    "     #  -->  Look at last 2 examples that SUM UP ALL.\n",
    "def new_funct():\n",
    "    print(\"spam\") \n",
    "    print(\"spam\") \n",
    "    \n",
    "new_funct()          # CALLING IT\n"
   ]
  },
  {
   "cell_type": "code",
   "execution_count": 15,
   "metadata": {},
   "outputs": [
    {
     "name": "stdout",
     "output_type": "stream",
     "text": [
      "Enter Word to emphasize: 11\n",
      "Hi!!!!\n",
      "11!!!!\n"
     ]
    }
   ],
   "source": [
    "def happy_funct(word):\n",
    "    print (word + \"!!!!\")\n",
    "    \n",
    "word = input(\"Enter Word to emphasize: \")\n",
    "\n",
    "happy_funct(\"Hi\")   # Pass constant into Function! \n",
    "happy_funct(word)         # ... or Pass Variable into Function!\n"
   ]
  },
  {
   "cell_type": "code",
   "execution_count": 2,
   "metadata": {},
   "outputs": [
    {
     "name": "stdout",
     "output_type": "stream",
     "text": [
      "9\n"
     ]
    }
   ],
   "source": [
    "def return_funct(x,y):\n",
    "    x = x + y\n",
    "    return x          # Return an answer from fn to main\n",
    "                       #NOTE: NO CODE AFTER ^ IS EXCUTED!\n",
    "\n",
    "n1 = 4\n",
    "n2 = 5\n",
    "\n",
    "print(return_funct(n1,n2)) "
   ]
  },
  {
   "cell_type": "code",
   "execution_count": 3,
   "metadata": {},
   "outputs": [
    {
     "name": "stdout",
     "output_type": "stream",
     "text": [
      "9\n"
     ]
    }
   ],
   "source": [
    "something = return_funct    # ^^ Function can be assigned to\n",
    "print (something(n1,n2))     # ... a normal variable name!"
   ]
  },
  {
   "cell_type": "code",
   "execution_count": 4,
   "metadata": {},
   "outputs": [
    {
     "name": "stdout",
     "output_type": "stream",
     "text": [
      "30\n"
     ]
    }
   ],
   "source": [
    "#Functions as Objects \n",
    "\n",
    "def add(x, y):   # Function input as argument to call another function\n",
    "  return x + y     #...Example of Advanced Nested function calling\n",
    "\n",
    "def do_twice(func, x, y):\n",
    "  return func(func(x, y), func(x, y))\n",
    "\n",
    "a = 5\n",
    "b = 10\n",
    "\n",
    "print(do_twice(add, a, b))"
   ]
  },
  {
   "cell_type": "code",
   "execution_count": 10,
   "metadata": {},
   "outputs": [
    {
     "name": "stdout",
     "output_type": "stream",
     "text": [
      "4\n",
      "5\n",
      "5\n",
      "6\n",
      "2\n"
     ]
    }
   ],
   "source": [
    "# IMPORT A MODULE IN PYTHON\n",
    "\n",
    "import random      #(name of module file random.py etc.)\n",
    "               # Ex:  from math import pi, sqrt  (selective import)\n",
    "               # Ex: from math import sqrt as sq_root (if want to call either module or any function a different name)\n",
    "for i in range(5):\n",
    "    value = random.randint(1,6)    # module . function\n",
    "    print(value)"
   ]
  },
  {
   "cell_type": "code",
   "execution_count": 15,
   "metadata": {},
   "outputs": [],
   "source": [
    "#You can download Modules, or use the Standard Library (prebuilt ones):\n",
    "# Standard Lib:  string, re, datetime, math, random, os, multiprocessing, subprocess, socket, email, json, doctest, unittest, pdb, argparse and sys.\n",
    "#Download More: cmd -> pip install library_name (PyPI - Python Package Index 3rd party modules)"
   ]
  },
  {
   "cell_type": "code",
   "execution_count": null,
   "metadata": {
    "collapsed": true
   },
   "outputs": [],
   "source": []
  }
 ],
 "metadata": {
  "kernelspec": {
   "display_name": "Python 3",
   "language": "python",
   "name": "python3"
  },
  "language_info": {
   "codemirror_mode": {
    "name": "ipython",
    "version": 3
   },
   "file_extension": ".py",
   "mimetype": "text/x-python",
   "name": "python",
   "nbconvert_exporter": "python",
   "pygments_lexer": "ipython3",
   "version": "3.6.1"
  }
 },
 "nbformat": 4,
 "nbformat_minor": 2
}
